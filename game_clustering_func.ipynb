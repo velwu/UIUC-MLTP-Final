{
 "cells": [
  {
   "cell_type": "code",
   "execution_count": 1,
   "metadata": {},
   "outputs": [],
   "source": [
    "import pandas as pd\n",
    "import numpy as np\n",
    "import scipy\n",
    "\n",
    "from sklearn import preprocessing\n",
    "from sklearn import metrics\n",
    "from sklearn.preprocessing import LabelEncoder\n",
    "from sklearn.model_selection import cross_val_score\n",
    "from sklearn.pipeline import Pipeline\n",
    "from sklearn.linear_model import LogisticRegression\n",
    "from sklearn.preprocessing import MinMaxScaler\n",
    "from sklearn.feature_selection import SelectKBest\n",
    "from sklearn.feature_selection import f_classif\n",
    "from sklearn.metrics import silhouette_score\n",
    "from sklearn.cluster import KMeans\n",
    "\n",
    "from kmodes.kprototypes import KPrototypes"
   ]
  },
  {
   "cell_type": "code",
   "execution_count": 2,
   "metadata": {},
   "outputs": [],
   "source": [
    "video_game_sales = pd.read_csv('Video_Games_Sales_as_at_22_Dec_2016.csv')\n",
    "video_game_sales['Name'] = video_game_sales['Name'].str.lower()"
   ]
  },
  {
   "cell_type": "code",
   "execution_count": 3,
   "metadata": {},
   "outputs": [],
   "source": [
    "video_game_sales['Name'] = video_game_sales['Name'].str.lower()\n",
    "#impute missing value\n",
    "video_game_sales_imp=pd.concat([video_game_sales.select_dtypes(include=np.number).fillna(-0.1),\n",
    "                              video_game_sales.select_dtypes(exclude=np.number).fillna('None')],\n",
    "                              axis=1)\n",
    "video_game_sales_imp.loc[video_game_sales_imp['User_Score'].str.isnumeric()!=True, 'User_Score']=-0.1\n",
    "video_game_sales_imp['User_Score']=video_game_sales_imp['User_Score'].astype('float')"
   ]
  },
  {
   "cell_type": "code",
   "execution_count": 4,
   "metadata": {},
   "outputs": [],
   "source": [
    "video_game_sales_label=video_game_sales_imp.filter(regex='Sales$', axis=1)\n",
    "video_game_sales_percent=video_game_sales_label.copy()\n",
    "video_game_sales_percent['NA_Sales']=video_game_sales_percent['NA_Sales']/video_game_sales_percent['Global_Sales']\n",
    "video_game_sales_percent['EU_Sales']=video_game_sales_percent['EU_Sales']/video_game_sales_percent['Global_Sales']\n",
    "video_game_sales_percent['JP_Sales']=video_game_sales_percent['JP_Sales']/video_game_sales_percent['Global_Sales']\n",
    "video_game_sales_percent['Other_Sales']=video_game_sales_percent['Other_Sales']/video_game_sales_percent['Global_Sales']\n",
    "\n",
    "video_game_sales_percent.drop(['Global_Sales'], axis=1, inplace=True)"
   ]
  },
  {
   "cell_type": "code",
   "execution_count": 5,
   "metadata": {},
   "outputs": [],
   "source": [
    "kmeans_kwargs={\n",
    "    'init':'random',\n",
    "    'n_init':10,\n",
    "    'max_iter': 300,\n",
    "    'random_state':42\n",
    "}\n",
    "\n",
    "kmeans = KMeans(n_clusters=5, **kmeans_kwargs)\n",
    "kmeans.fit(video_game_sales_percent)\n",
    "sales_label = kmeans.labels_\n",
    "\n",
    "video_game_sales_percent['sales_label']=pd.Series(sales_label).replace(\n",
    "    {0:'JP&NA', 1:'NA', 2:'JP', 3:'NA&EU',4:'EU'})"
   ]
  },
  {
   "cell_type": "code",
   "execution_count": 6,
   "metadata": {},
   "outputs": [],
   "source": [
    "#Deal wiht the year information and add year label for every 5 years interval between 1980 and 2020\n",
    "def year_label(x):\n",
    "    x_label=0.125\n",
    "    if x>=1985 and x<1990:\n",
    "        x_label=0.25\n",
    "    elif x>=1990 and x<1995:\n",
    "        x_label=0.375\n",
    "    elif x>=1995 and x<2000:\n",
    "        x_label=0.5\n",
    "    elif x>=2000 and x<2005:\n",
    "        x_label=0.625\n",
    "    elif x>=2005 and x<2010:\n",
    "        x_label=0.75\n",
    "    elif x>=2010 and x<2015:\n",
    "        x_label=0.875\n",
    "    elif x>=2015:\n",
    "        x_label=1\n",
    "    return x_label\n",
    "\n",
    "video_game_sales_imp['interval_2020']=video_game_sales['Year_of_Release'].apply(year_label)"
   ]
  },
  {
   "cell_type": "code",
   "execution_count": 7,
   "metadata": {},
   "outputs": [
    {
     "name": "stderr",
     "output_type": "stream",
     "text": [
      "/Users/cy/Downloads/anaconda3/lib/python3.7/site-packages/ipykernel_launcher.py:7: SettingWithCopyWarning: \n",
      "A value is trying to be set on a copy of a slice from a DataFrame.\n",
      "Try using .loc[row_indexer,col_indexer] = value instead\n",
      "\n",
      "See the caveats in the documentation: https://pandas.pydata.org/pandas-docs/stable/user_guide/indexing.html#returning-a-view-versus-a-copy\n",
      "  import sys\n",
      "/Users/cy/Downloads/anaconda3/lib/python3.7/site-packages/ipykernel_launcher.py:8: SettingWithCopyWarning: \n",
      "A value is trying to be set on a copy of a slice from a DataFrame.\n",
      "Try using .loc[row_indexer,col_indexer] = value instead\n",
      "\n",
      "See the caveats in the documentation: https://pandas.pydata.org/pandas-docs/stable/user_guide/indexing.html#returning-a-view-versus-a-copy\n",
      "  \n"
     ]
    }
   ],
   "source": [
    "video_game_sales_num = video_game_sales_imp[video_game_sales_imp.select_dtypes(include=np.number).columns.tolist()]\n",
    "min_max_scaler=preprocessing.MinMaxScaler()\n",
    "video_game_sales_scaled=pd.DataFrame(min_max_scaler.fit_transform(video_game_sales_num))\n",
    "video_game_sales_scaled.columns=video_game_sales_num.columns\n",
    "\n",
    "games_train_num=video_game_sales_scaled[['Critic_Score','User_Count', 'User_Score']]\n",
    "games_train_num['interval_years_2020']=video_game_sales['Year_of_Release'].apply(year_label)\n",
    "games_train_num['gloabl_sales_log']=(np.log(video_game_sales['Global_Sales'])-np.log(video_game_sales['Global_Sales']).min()+0.01)/10"
   ]
  },
  {
   "cell_type": "code",
   "execution_count": 8,
   "metadata": {},
   "outputs": [],
   "source": [
    "games_train_cat=video_game_sales_imp.drop(columns=['Name', 'Publisher', 'Developer']).select_dtypes(exclude=np.number)\n",
    "games_train_cat['regional_sales_label']=pd.Series(sales_label).replace(\n",
    "    {0:'JP&NA', 1:'NA', 2:'JP', 3:'NA&EU',4:'EU'})"
   ]
  },
  {
   "cell_type": "code",
   "execution_count": 9,
   "metadata": {},
   "outputs": [],
   "source": [
    "# Convert dataframe to matrix\n",
    "games_train = pd.concat([games_train_cat, games_train_num], axis=1)\n",
    "games_matrix=games_train.to_numpy()"
   ]
  },
  {
   "cell_type": "code",
   "execution_count": 10,
   "metadata": {},
   "outputs": [
    {
     "data": {
      "text/plain": [
       "array([ 3, 10,  5, ..., 17,  0, 17], dtype=uint16)"
      ]
     },
     "execution_count": 10,
     "metadata": {},
     "output_type": "execute_result"
    }
   ],
   "source": [
    "catColumnsPos=[games_train.columns.get_loc(col) for col in games_train_cat.columns.to_list()]\n",
    "kprototype = KPrototypes(n_jobs = -1, n_clusters = 27, init = 'Huang', random_state = 0)\n",
    "kprototype.fit_predict(games_matrix, categorical = catColumnsPos)"
   ]
  },
  {
   "cell_type": "code",
   "execution_count": 11,
   "metadata": {},
   "outputs": [
    {
     "name": "stderr",
     "output_type": "stream",
     "text": [
      "/Users/cy/Downloads/anaconda3/lib/python3.7/site-packages/ipykernel_launcher.py:3: SettingWithCopyWarning: \n",
      "A value is trying to be set on a copy of a slice from a DataFrame.\n",
      "Try using .loc[row_indexer,col_indexer] = value instead\n",
      "\n",
      "See the caveats in the documentation: https://pandas.pydata.org/pandas-docs/stable/user_guide/indexing.html#returning-a-view-versus-a-copy\n",
      "  This is separate from the ipykernel package so we can avoid doing imports until\n"
     ]
    }
   ],
   "source": [
    "game_label=kprototype.labels_\n",
    "video_game_group=video_game_sales[['Name']]\n",
    "video_game_group['game_label']=pd.Series(game_label)"
   ]
  },
  {
   "cell_type": "code",
   "execution_count": 12,
   "metadata": {},
   "outputs": [
    {
     "data": {
      "text/html": [
       "<div>\n",
       "<style scoped>\n",
       "    .dataframe tbody tr th:only-of-type {\n",
       "        vertical-align: middle;\n",
       "    }\n",
       "\n",
       "    .dataframe tbody tr th {\n",
       "        vertical-align: top;\n",
       "    }\n",
       "\n",
       "    .dataframe thead th {\n",
       "        text-align: right;\n",
       "    }\n",
       "</style>\n",
       "<table border=\"1\" class=\"dataframe\">\n",
       "  <thead>\n",
       "    <tr style=\"text-align: right;\">\n",
       "      <th></th>\n",
       "      <th>Name</th>\n",
       "      <th>game_label</th>\n",
       "    </tr>\n",
       "  </thead>\n",
       "  <tbody>\n",
       "    <tr>\n",
       "      <th>0</th>\n",
       "      <td>wii sports</td>\n",
       "      <td>3</td>\n",
       "    </tr>\n",
       "    <tr>\n",
       "      <th>1</th>\n",
       "      <td>super mario bros.</td>\n",
       "      <td>10</td>\n",
       "    </tr>\n",
       "    <tr>\n",
       "      <th>2</th>\n",
       "      <td>mario kart wii</td>\n",
       "      <td>5</td>\n",
       "    </tr>\n",
       "    <tr>\n",
       "      <th>3</th>\n",
       "      <td>wii sports resort</td>\n",
       "      <td>3</td>\n",
       "    </tr>\n",
       "    <tr>\n",
       "      <th>4</th>\n",
       "      <td>pokemon red/pokemon blue</td>\n",
       "      <td>23</td>\n",
       "    </tr>\n",
       "    <tr>\n",
       "      <th>...</th>\n",
       "      <td>...</td>\n",
       "      <td>...</td>\n",
       "    </tr>\n",
       "    <tr>\n",
       "      <th>16714</th>\n",
       "      <td>samurai warriors: sanada maru</td>\n",
       "      <td>12</td>\n",
       "    </tr>\n",
       "    <tr>\n",
       "      <th>16715</th>\n",
       "      <td>lma manager 2007</td>\n",
       "      <td>24</td>\n",
       "    </tr>\n",
       "    <tr>\n",
       "      <th>16716</th>\n",
       "      <td>haitaka no psychedelica</td>\n",
       "      <td>17</td>\n",
       "    </tr>\n",
       "    <tr>\n",
       "      <th>16717</th>\n",
       "      <td>spirits &amp; spells</td>\n",
       "      <td>0</td>\n",
       "    </tr>\n",
       "    <tr>\n",
       "      <th>16718</th>\n",
       "      <td>winning post 8 2016</td>\n",
       "      <td>17</td>\n",
       "    </tr>\n",
       "  </tbody>\n",
       "</table>\n",
       "<p>16719 rows × 2 columns</p>\n",
       "</div>"
      ],
      "text/plain": [
       "                                Name  game_label\n",
       "0                         wii sports           3\n",
       "1                  super mario bros.          10\n",
       "2                     mario kart wii           5\n",
       "3                  wii sports resort           3\n",
       "4           pokemon red/pokemon blue          23\n",
       "...                              ...         ...\n",
       "16714  samurai warriors: sanada maru          12\n",
       "16715               lma manager 2007          24\n",
       "16716        haitaka no psychedelica          17\n",
       "16717               spirits & spells           0\n",
       "16718            winning post 8 2016          17\n",
       "\n",
       "[16719 rows x 2 columns]"
      ]
     },
     "execution_count": 12,
     "metadata": {},
     "output_type": "execute_result"
    }
   ],
   "source": [
    "video_game_group"
   ]
  },
  {
   "cell_type": "code",
   "execution_count": null,
   "metadata": {},
   "outputs": [],
   "source": []
  }
 ],
 "metadata": {
  "kernelspec": {
   "display_name": "Python 3",
   "language": "python",
   "name": "python3"
  },
  "language_info": {
   "codemirror_mode": {
    "name": "ipython",
    "version": 3
   },
   "file_extension": ".py",
   "mimetype": "text/x-python",
   "name": "python",
   "nbconvert_exporter": "python",
   "pygments_lexer": "ipython3",
   "version": "3.7.7"
  }
 },
 "nbformat": 4,
 "nbformat_minor": 4
}
