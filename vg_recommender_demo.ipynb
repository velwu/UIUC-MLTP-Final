{
 "cells": [
  {
   "cell_type": "code",
   "execution_count": 1,
   "metadata": {},
   "outputs": [
    {
     "output_type": "stream",
     "name": "stderr",
     "text": [
      "C:\\Users\\ericw\\anaconda3\\lib\\site-packages\\gensim\\similarities\\__init__.py:15: UserWarning: The gensim.similarities.levenshtein submodule is disabled, because the optional Levenshtein package <https://pypi.org/project/python-Levenshtein/> is unavailable. Install Levenhstein (e.g. `pip install python-Levenshtein`) to suppress this warning.\n  warnings.warn(msg)\n"
     ]
    }
   ],
   "source": [
    "import pandas as pd\n",
    "import numpy as np\n",
    "import time\n",
    "import matplotlib.pyplot as plt\n",
    "import gensim\n",
    "from gensim.models.doc2vec import Doc2Vec\n",
    "from gensim.test.utils import get_tmpfile\n",
    "from nltk.tokenize import word_tokenize\n",
    "\n",
    "import vg_recommender_driver as file_vg\n",
    "import data_pre_processing as file_dpp"
   ]
  },
  {
   "cell_type": "code",
   "execution_count": 2,
   "metadata": {},
   "outputs": [
    {
     "output_type": "stream",
     "name": "stdout",
     "text": [
      "(16593, 2)\n",
      "(16713, 2)\n",
      "(5516, 2)\n",
      "Number of texts processed:  32779\n"
     ]
    },
    {
     "output_type": "execute_result",
     "data": {
      "text/plain": [
       "                         name  \\\n",
       "0      LEVEL (Czech Republic)   \n",
       "1                 GameCritics   \n",
       "2           PC Games (Russia)   \n",
       "3            Adventure Gamers   \n",
       "4             Armchair Empire   \n",
       "...                       ...   \n",
       "32774              XboxAddict   \n",
       "32775                    ICXM   \n",
       "32776           Worth Playing   \n",
       "32777        TrueAchievements   \n",
       "32778                GameSpot   \n",
       "\n",
       "                                                  review      game platform  \\\n",
       "0      Portal 2 is a masterpiece, a work of art that ...  portal 2       PC   \n",
       "1      So do we need Portal 2? Do I need it? Maybe no...  portal 2       PC   \n",
       "2      Portal 2 exceeds every expectation. It has a s...  portal 2       PC   \n",
       "3      Like its predecessor, Portal 2 is not an adven...  portal 2       PC   \n",
       "4      Pile on the \"Oh, yes!\" moments of solving some...  portal 2       PC   \n",
       "...                                                  ...       ...      ...   \n",
       "32774  Despite the lackluster quality with some of it...    ride 2     XOne   \n",
       "32775  Ride 2 is a huge improvement over the original...    ride 2     XOne   \n",
       "32776  Ride 2 is certainly an improvement over the or...    ride 2     XOne   \n",
       "32777  Despite the addition of more bikes and tracks,...    ride 2     XOne   \n",
       "32778  On paper, then, Ride 2 is an exciting proposit...    ride 2     XOne   \n",
       "\n",
       "       score          date  Unnamed: 0      Name Platform  Year_of_Release  \\\n",
       "0      100.0  May 25, 2011        2703  portal 2       PC           2011.0   \n",
       "1      100.0  May  8, 2011        2703  portal 2       PC           2011.0   \n",
       "2      100.0  May  6, 2011        2703  portal 2       PC           2011.0   \n",
       "3      100.0  Apr 29, 2011        2703  portal 2       PC           2011.0   \n",
       "4      100.0  Apr 28, 2011        2703  portal 2       PC           2011.0   \n",
       "...      ...           ...         ...       ...      ...              ...   \n",
       "32774   70.0  Mar  7, 2017       16512    ride 2     XOne           2016.0   \n",
       "32775   70.0  Feb 18, 2017       16512    ride 2     XOne           2016.0   \n",
       "32776   65.0  Mar  9, 2017       16512    ride 2     XOne           2016.0   \n",
       "32777   60.0  Oct 13, 2016       16512    ride 2     XOne           2016.0   \n",
       "32778   40.0  Feb 24, 2017       16512    ride 2     XOne           2016.0   \n",
       "\n",
       "       ... Critic_Count User_Score  User_Count        Developer  Rating  \\\n",
       "0      ...         52.0        8.8      5999.0   Valve Software    E10+   \n",
       "1      ...         52.0        8.8      5999.0   Valve Software    E10+   \n",
       "2      ...         52.0        8.8      5999.0   Valve Software    E10+   \n",
       "3      ...         52.0        8.8      5999.0   Valve Software    E10+   \n",
       "4      ...         52.0        8.8      5999.0   Valve Software    E10+   \n",
       "...    ...          ...        ...         ...              ...     ...   \n",
       "32774  ...          NaN        8.2         6.0  Milestone S.r.l       E   \n",
       "32775  ...          NaN        8.2         6.0  Milestone S.r.l       E   \n",
       "32776  ...          NaN        8.2         6.0  Milestone S.r.l       E   \n",
       "32777  ...          NaN        8.2         6.0  Milestone S.r.l       E   \n",
       "32778  ...          NaN        8.2         6.0  Milestone S.r.l       E   \n",
       "\n",
       "       regional_sales_label  interval_years_2020  gloabl_sales_log  \\\n",
       "0                     NA&EU                0.875          0.434073   \n",
       "1                     NA&EU                0.875          0.434073   \n",
       "2                     NA&EU                0.875          0.434073   \n",
       "3                     NA&EU                0.875          0.434073   \n",
       "4                     NA&EU                0.875          0.434073   \n",
       "...                     ...                  ...               ...   \n",
       "32774                    EU                1.000          0.001000   \n",
       "32775                    EU                1.000          0.001000   \n",
       "32776                    EU                1.000          0.001000   \n",
       "32777                    EU                1.000          0.001000   \n",
       "32778                    EU                1.000          0.001000   \n",
       "\n",
       "       cluster_label                                      review_tokens  \n",
       "0                 22  [portal, 2, is, a, masterpiece, ,, a, work, of...  \n",
       "1                 22  [so, do, we, need, portal, 2, ?, do, i, need, ...  \n",
       "2                 22  [portal, 2, exceeds, every, expectation, ., it...  \n",
       "3                 22  [like, its, predecessor, ,, portal, 2, is, not...  \n",
       "4                 22  [pile, on, the, ``, oh, ,, yes, !, '', moments...  \n",
       "...              ...                                                ...  \n",
       "32774             23  [despite, the, lackluster, quality, with, some...  \n",
       "32775             23  [ride, 2, is, a, huge, improvement, over, the,...  \n",
       "32776             23  [ride, 2, is, certainly, an, improvement, over...  \n",
       "32777             23  [despite, the, addition, of, more, bikes, and,...  \n",
       "32778             23  [on, paper, ,, then, ,, ride, 2, is, an, excit...  \n",
       "\n",
       "[32779 rows x 28 columns]"
      ],
      "text/html": "<div>\n<style scoped>\n    .dataframe tbody tr th:only-of-type {\n        vertical-align: middle;\n    }\n\n    .dataframe tbody tr th {\n        vertical-align: top;\n    }\n\n    .dataframe thead th {\n        text-align: right;\n    }\n</style>\n<table border=\"1\" class=\"dataframe\">\n  <thead>\n    <tr style=\"text-align: right;\">\n      <th></th>\n      <th>name</th>\n      <th>review</th>\n      <th>game</th>\n      <th>platform</th>\n      <th>score</th>\n      <th>date</th>\n      <th>Unnamed: 0</th>\n      <th>Name</th>\n      <th>Platform</th>\n      <th>Year_of_Release</th>\n      <th>...</th>\n      <th>Critic_Count</th>\n      <th>User_Score</th>\n      <th>User_Count</th>\n      <th>Developer</th>\n      <th>Rating</th>\n      <th>regional_sales_label</th>\n      <th>interval_years_2020</th>\n      <th>gloabl_sales_log</th>\n      <th>cluster_label</th>\n      <th>review_tokens</th>\n    </tr>\n  </thead>\n  <tbody>\n    <tr>\n      <th>0</th>\n      <td>LEVEL (Czech Republic)</td>\n      <td>Portal 2 is a masterpiece, a work of art that ...</td>\n      <td>portal 2</td>\n      <td>PC</td>\n      <td>100.0</td>\n      <td>May 25, 2011</td>\n      <td>2703</td>\n      <td>portal 2</td>\n      <td>PC</td>\n      <td>2011.0</td>\n      <td>...</td>\n      <td>52.0</td>\n      <td>8.8</td>\n      <td>5999.0</td>\n      <td>Valve Software</td>\n      <td>E10+</td>\n      <td>NA&amp;EU</td>\n      <td>0.875</td>\n      <td>0.434073</td>\n      <td>22</td>\n      <td>[portal, 2, is, a, masterpiece, ,, a, work, of...</td>\n    </tr>\n    <tr>\n      <th>1</th>\n      <td>GameCritics</td>\n      <td>So do we need Portal 2? Do I need it? Maybe no...</td>\n      <td>portal 2</td>\n      <td>PC</td>\n      <td>100.0</td>\n      <td>May  8, 2011</td>\n      <td>2703</td>\n      <td>portal 2</td>\n      <td>PC</td>\n      <td>2011.0</td>\n      <td>...</td>\n      <td>52.0</td>\n      <td>8.8</td>\n      <td>5999.0</td>\n      <td>Valve Software</td>\n      <td>E10+</td>\n      <td>NA&amp;EU</td>\n      <td>0.875</td>\n      <td>0.434073</td>\n      <td>22</td>\n      <td>[so, do, we, need, portal, 2, ?, do, i, need, ...</td>\n    </tr>\n    <tr>\n      <th>2</th>\n      <td>PC Games (Russia)</td>\n      <td>Portal 2 exceeds every expectation. It has a s...</td>\n      <td>portal 2</td>\n      <td>PC</td>\n      <td>100.0</td>\n      <td>May  6, 2011</td>\n      <td>2703</td>\n      <td>portal 2</td>\n      <td>PC</td>\n      <td>2011.0</td>\n      <td>...</td>\n      <td>52.0</td>\n      <td>8.8</td>\n      <td>5999.0</td>\n      <td>Valve Software</td>\n      <td>E10+</td>\n      <td>NA&amp;EU</td>\n      <td>0.875</td>\n      <td>0.434073</td>\n      <td>22</td>\n      <td>[portal, 2, exceeds, every, expectation, ., it...</td>\n    </tr>\n    <tr>\n      <th>3</th>\n      <td>Adventure Gamers</td>\n      <td>Like its predecessor, Portal 2 is not an adven...</td>\n      <td>portal 2</td>\n      <td>PC</td>\n      <td>100.0</td>\n      <td>Apr 29, 2011</td>\n      <td>2703</td>\n      <td>portal 2</td>\n      <td>PC</td>\n      <td>2011.0</td>\n      <td>...</td>\n      <td>52.0</td>\n      <td>8.8</td>\n      <td>5999.0</td>\n      <td>Valve Software</td>\n      <td>E10+</td>\n      <td>NA&amp;EU</td>\n      <td>0.875</td>\n      <td>0.434073</td>\n      <td>22</td>\n      <td>[like, its, predecessor, ,, portal, 2, is, not...</td>\n    </tr>\n    <tr>\n      <th>4</th>\n      <td>Armchair Empire</td>\n      <td>Pile on the \"Oh, yes!\" moments of solving some...</td>\n      <td>portal 2</td>\n      <td>PC</td>\n      <td>100.0</td>\n      <td>Apr 28, 2011</td>\n      <td>2703</td>\n      <td>portal 2</td>\n      <td>PC</td>\n      <td>2011.0</td>\n      <td>...</td>\n      <td>52.0</td>\n      <td>8.8</td>\n      <td>5999.0</td>\n      <td>Valve Software</td>\n      <td>E10+</td>\n      <td>NA&amp;EU</td>\n      <td>0.875</td>\n      <td>0.434073</td>\n      <td>22</td>\n      <td>[pile, on, the, ``, oh, ,, yes, !, '', moments...</td>\n    </tr>\n    <tr>\n      <th>...</th>\n      <td>...</td>\n      <td>...</td>\n      <td>...</td>\n      <td>...</td>\n      <td>...</td>\n      <td>...</td>\n      <td>...</td>\n      <td>...</td>\n      <td>...</td>\n      <td>...</td>\n      <td>...</td>\n      <td>...</td>\n      <td>...</td>\n      <td>...</td>\n      <td>...</td>\n      <td>...</td>\n      <td>...</td>\n      <td>...</td>\n      <td>...</td>\n      <td>...</td>\n      <td>...</td>\n    </tr>\n    <tr>\n      <th>32774</th>\n      <td>XboxAddict</td>\n      <td>Despite the lackluster quality with some of it...</td>\n      <td>ride 2</td>\n      <td>XOne</td>\n      <td>70.0</td>\n      <td>Mar  7, 2017</td>\n      <td>16512</td>\n      <td>ride 2</td>\n      <td>XOne</td>\n      <td>2016.0</td>\n      <td>...</td>\n      <td>NaN</td>\n      <td>8.2</td>\n      <td>6.0</td>\n      <td>Milestone S.r.l</td>\n      <td>E</td>\n      <td>EU</td>\n      <td>1.000</td>\n      <td>0.001000</td>\n      <td>23</td>\n      <td>[despite, the, lackluster, quality, with, some...</td>\n    </tr>\n    <tr>\n      <th>32775</th>\n      <td>ICXM</td>\n      <td>Ride 2 is a huge improvement over the original...</td>\n      <td>ride 2</td>\n      <td>XOne</td>\n      <td>70.0</td>\n      <td>Feb 18, 2017</td>\n      <td>16512</td>\n      <td>ride 2</td>\n      <td>XOne</td>\n      <td>2016.0</td>\n      <td>...</td>\n      <td>NaN</td>\n      <td>8.2</td>\n      <td>6.0</td>\n      <td>Milestone S.r.l</td>\n      <td>E</td>\n      <td>EU</td>\n      <td>1.000</td>\n      <td>0.001000</td>\n      <td>23</td>\n      <td>[ride, 2, is, a, huge, improvement, over, the,...</td>\n    </tr>\n    <tr>\n      <th>32776</th>\n      <td>Worth Playing</td>\n      <td>Ride 2 is certainly an improvement over the or...</td>\n      <td>ride 2</td>\n      <td>XOne</td>\n      <td>65.0</td>\n      <td>Mar  9, 2017</td>\n      <td>16512</td>\n      <td>ride 2</td>\n      <td>XOne</td>\n      <td>2016.0</td>\n      <td>...</td>\n      <td>NaN</td>\n      <td>8.2</td>\n      <td>6.0</td>\n      <td>Milestone S.r.l</td>\n      <td>E</td>\n      <td>EU</td>\n      <td>1.000</td>\n      <td>0.001000</td>\n      <td>23</td>\n      <td>[ride, 2, is, certainly, an, improvement, over...</td>\n    </tr>\n    <tr>\n      <th>32777</th>\n      <td>TrueAchievements</td>\n      <td>Despite the addition of more bikes and tracks,...</td>\n      <td>ride 2</td>\n      <td>XOne</td>\n      <td>60.0</td>\n      <td>Oct 13, 2016</td>\n      <td>16512</td>\n      <td>ride 2</td>\n      <td>XOne</td>\n      <td>2016.0</td>\n      <td>...</td>\n      <td>NaN</td>\n      <td>8.2</td>\n      <td>6.0</td>\n      <td>Milestone S.r.l</td>\n      <td>E</td>\n      <td>EU</td>\n      <td>1.000</td>\n      <td>0.001000</td>\n      <td>23</td>\n      <td>[despite, the, addition, of, more, bikes, and,...</td>\n    </tr>\n    <tr>\n      <th>32778</th>\n      <td>GameSpot</td>\n      <td>On paper, then, Ride 2 is an exciting proposit...</td>\n      <td>ride 2</td>\n      <td>XOne</td>\n      <td>40.0</td>\n      <td>Feb 24, 2017</td>\n      <td>16512</td>\n      <td>ride 2</td>\n      <td>XOne</td>\n      <td>2016.0</td>\n      <td>...</td>\n      <td>NaN</td>\n      <td>8.2</td>\n      <td>6.0</td>\n      <td>Milestone S.r.l</td>\n      <td>E</td>\n      <td>EU</td>\n      <td>1.000</td>\n      <td>0.001000</td>\n      <td>23</td>\n      <td>[on, paper, ,, then, ,, ride, 2, is, an, excit...</td>\n    </tr>\n  </tbody>\n</table>\n<p>32779 rows × 28 columns</p>\n</div>"
     },
     "metadata": {},
     "execution_count": 2
    }
   ],
   "source": [
    "model_prep_pack = file_vg.model_prep(use_num_clusters = True)\n",
    "\n",
    "vg_all_content_train = model_prep_pack[0]\n",
    "demo_dataframe = model_prep_pack[1]\n",
    "demo_dataframe"
   ]
  },
  {
   "cell_type": "code",
   "execution_count": 3,
   "metadata": {},
   "outputs": [
    {
     "output_type": "stream",
     "name": "stdout",
     "text": [
      "14:58:54 MODEL A TRAINING IN PROGRESS. PLEASE WAIT --- \n",
      "14:59:30 MODEL A IS TRAINED AND READY: Vector Size: 50 ; Epoch Number: 10\n"
     ]
    }
   ],
   "source": [
    "t = time.localtime()\n",
    "current_time = time.strftime(\"%H:%M:%S\", t)\n",
    "\n",
    "#Parameters for Doc2Vec Model A\n",
    "vector_size = 50\n",
    "window = 5\n",
    "min_count = 1\n",
    "negative = 0\n",
    "epoch = 10\n",
    "param_list = [vector_size, window, min_count, negative, epoch]\n",
    "print(current_time, \"MODEL A TRAINING IN PROGRESS. PLEASE WAIT --- \")\n",
    "d2v_model_demo_A = file_vg.get_doc2vec(vg_all_content_train, param_list)\n",
    "t = time.localtime()\n",
    "current_time = time.strftime(\"%H:%M:%S\", t)\n",
    "print(current_time, \"MODEL A IS TRAINED AND READY:\", \"Vector Size:\", vector_size, \";\", \"Epoch Number:\", epoch)"
   ]
  },
  {
   "cell_type": "code",
   "execution_count": 4,
   "metadata": {},
   "outputs": [
    {
     "output_type": "stream",
     "name": "stdout",
     "text": [
      "14:59:30 MODEL B TRAINING IN PROGRESS. PLEASE WAIT --- \n",
      "15:28:45 MODEL B IS TRAINED AND READY: Vector Size: 100 ; Epoch Number: 1000\n"
     ]
    }
   ],
   "source": [
    "t = time.localtime()\n",
    "current_time = time.strftime(\"%H:%M:%S\", t)\n",
    "\n",
    "#Parameters for Doc2Vec Model B\n",
    "vector_size = 100\n",
    "window = 5\n",
    "min_count = 1\n",
    "negative = 0\n",
    "epoch = 1000\n",
    "\n",
    "param_list = [vector_size, window, min_count, negative, epoch]\n",
    "\n",
    "print(current_time, \"MODEL B TRAINING IN PROGRESS. PLEASE WAIT --- \")\n",
    "d2v_model_demo_B = file_vg.get_doc2vec(vg_all_content_train, param_list)\n",
    "t = time.localtime()\n",
    "current_time = time.strftime(\"%H:%M:%S\", t)\n",
    "print(current_time, \"MODEL B IS TRAINED AND READY:\", \"Vector Size:\", vector_size, \";\", \"Epoch Number:\", epoch)"
   ]
  },
  {
   "cell_type": "markdown",
   "metadata": {},
   "source": [
    "# BUFFER CELL\n",
    "### MODELS Above \n",
    "### EXECUTIONS Below"
   ]
  },
  {
   "source": [
    "### Run Job I: Fallout, 7 out of 10"
   ],
   "cell_type": "markdown",
   "metadata": {}
  },
  {
   "cell_type": "code",
   "execution_count": 5,
   "metadata": {},
   "outputs": [
    {
     "output_type": "stream",
     "name": "stdout",
     "text": [
      "fallout\n",
      "7.0\n",
      "[6.2 6.5 5.4]\n",
      "[10682, 19068, 14410, 27087, 21602, 9827, 3936, 14743, 7642, 19064]\n",
      "[0.5659518241882324, 0.48661088943481445, 0.48263850808143616, 0.4796906113624573, 0.46791914105415344, 0.46771472692489624, 0.46480968594551086, 0.461399108171463, 0.4575643241405487, 0.45532774925231934]\n",
      " \n",
      "Input game: fallout\n",
      "Input user score: 7.0\n",
      "Similarity - Recommended games\n",
      "0.5659518241882324 - castlevania: lords of shadow - mirror of fate\n",
      "0.48661088943481445 - fallout 4\n",
      "0.48263850808143616 - danganronpa: trigger happy havoc\n",
      "0.4796906113624573 - watch dogs 2\n",
      "0.46791914105415344 - etrian mystery dungeon\n",
      "0.46771472692489624 - the wonderful 101\n",
      "0.46480968594551086 - bust-a-move universe\n",
      "0.461399108171463 - wolfenstein: the new order\n",
      "0.4575643241405487 - little deviants\n"
     ]
    }
   ],
   "source": [
    "file_vg.run_recommender(d2v_model_demo_A, demo_dataframe)"
   ]
  },
  {
   "cell_type": "code",
   "execution_count": 6,
   "metadata": {},
   "outputs": [
    {
     "output_type": "stream",
     "name": "stdout",
     "text": [
      "fallout\n",
      "7.0\n",
      "[6.2 6.5 5.4]\n",
      "[13721, 8587, 19068, 12531, 29157, 29166, 28472, 20826, 16860, 9967]\n",
      "[0.4247927665710449, 0.37954291701316833, 0.3587292730808258, 0.3517489433288574, 0.35068273544311523, 0.3506515920162201, 0.34178870916366577, 0.3393701910972595, 0.3381994664669037, 0.3378807008266449]\n",
      " \n",
      "Input game: fallout\n",
      "Input user score: 7.0\n",
      "Similarity - Recommended games\n",
      "0.4247927665710449 - call of duty: advanced warfare\n",
      "0.37954291701316833 - saints row iv\n",
      "0.3587292730808258 - fallout 4\n",
      "0.3517489433288574 - titanfall\n",
      "0.35068273544311523 - batman: arkham vr\n",
      "0.3506515920162201 - quantum break\n",
      "0.34178870916366577 - disgaea 5: alliance of vengeance\n",
      "0.3393701910972595 - the lego movie videogame\n",
      "0.3381994664669037 - call of duty: ghosts\n"
     ]
    }
   ],
   "source": [
    "file_vg.run_recommender(d2v_model_demo_B, demo_dataframe)"
   ]
  },
  {
   "source": [
    "### Run Job II: Elder Scrolls, 10 out of 10"
   ],
   "cell_type": "markdown",
   "metadata": {}
  },
  {
   "cell_type": "code",
   "execution_count": 10,
   "metadata": {},
   "outputs": [
    {
     "output_type": "stream",
     "name": "stdout",
     "text": [
      "elder scrolls\n",
      "10.0\n",
      "[8.1 5.7]\n",
      "[19938, 13249, 23088, 23185, 15580, 29594, 2142, 13566, 7280, 18535]\n",
      "[0.5186320543289185, 0.5125606656074524, 0.5060069561004639, 0.5053179860115051, 0.5001996755599976, 0.4907010495662689, 0.4896400272846222, 0.4758257269859314, 0.4747908115386963, 0.469594806432724]\n",
      " \n",
      "Input game: elder scrolls\n",
      "Input user score: 10.0\n",
      "Similarity - Recommended games\n",
      "0.5186320543289185 - halo 5: guardians\n",
      "0.5125606656074524 - donkey kong country: tropical freeze\n",
      "0.5060069561004639 - ultra street fighter iv\n",
      "0.5053179860115051 - lego jurassic world\n",
      "0.5001996755599976 - metal gear solid v: ground zeroes\n",
      "0.4907010495662689 - uefa euro 2016\n",
      "0.4896400272846222 - magicka\n",
      "0.4758257269859314 - fifa 15\n",
      "0.4747908115386963 - lego harry potter: years 5-7\n",
      "0.469594806432724 - destiny: the taken king\n"
     ]
    }
   ],
   "source": [
    "file_vg.run_recommender(d2v_model_demo_A, demo_dataframe)"
   ]
  },
  {
   "cell_type": "code",
   "execution_count": 11,
   "metadata": {},
   "outputs": [
    {
     "output_type": "stream",
     "name": "stdout",
     "text": [
      "elder scrolls\n",
      "10.0\n",
      "[8.1 5.7]\n",
      "[30782, 18538, 24600, 32738, 4290, 10183, 13244, 2757, 12812, 82]\n",
      "[0.4205424189567566, 0.39485156536102295, 0.38941490650177, 0.3856979310512543, 0.38257426023483276, 0.381220281124115, 0.3761630058288574, 0.37006914615631104, 0.365151971578598, 0.3524610698223114]\n",
      " \n",
      "Input game: elder scrolls\n",
      "Input user score: 10.0\n",
      "Similarity - Recommended games\n",
      "0.4205424189567566 - nights of azure\n",
      "0.39485156536102295 - destiny: the taken king\n",
      "0.38941490650177 - bladestorm: nightmare\n",
      "0.3856979310512543 - berserk and the band of the hawk\n",
      "0.38257426023483276 - zero escape: virtue's last reward\n",
      "0.381220281124115 - dragon's crown\n",
      "0.3761630058288574 - donkey kong country: tropical freeze\n",
      "0.37006914615631104 - homefront\n",
      "0.365151971578598 - halo: the master chief collection\n",
      "0.3524610698223114 - the elder scrolls v: skyrim\n"
     ]
    }
   ],
   "source": [
    "file_vg.run_recommender(d2v_model_demo_B, demo_dataframe)"
   ]
  },
  {
   "source": [
    "### Run Job III: Fallout, 7 out of 10, Cluster Labels added"
   ],
   "cell_type": "markdown",
   "metadata": {}
  },
  {
   "cell_type": "code",
   "execution_count": 13,
   "metadata": {},
   "outputs": [
    {
     "output_type": "execute_result",
     "data": {
      "text/plain": [
       "22    7176\n",
       "0     4235\n",
       "9     3529\n",
       "14    3305\n",
       "26    3085\n",
       "7     2417\n",
       "5     2023\n",
       "1     1732\n",
       "15    1051\n",
       "24     696\n",
       "20     628\n",
       "11     421\n",
       "18     376\n",
       "16     361\n",
       "6      345\n",
       "17     292\n",
       "23     247\n",
       "8      214\n",
       "21     205\n",
       "3      161\n",
       "12     130\n",
       "10     104\n",
       "2       39\n",
       "4        7\n",
       "Name: cluster_label, dtype: int64"
      ]
     },
     "metadata": {},
     "execution_count": 13
    }
   ],
   "source": [
    "demo_dataframe[\"cluster_label\"].value_counts()"
   ]
  },
  {
   "cell_type": "code",
   "execution_count": 14,
   "metadata": {},
   "outputs": [
    {
     "output_type": "stream",
     "name": "stdout",
     "text": [
      "fallout\n",
      "7.0\n",
      "[6.2 6.5 5.4]\n",
      "[17130, 2588, 13280, 142, 20693, 19764, 17146, 30528, 8314, 3213]\n",
      "[452.6667298259433, 417.80239905699966, 415.1742186080212, 413.5948178381257, 411.16441776050266, 408.8852096269839, 407.01738937207955, 406.431081787982, 402.8078552291546, 402.7737875009308]\n",
      " \n",
      "Input game: fallout\n",
      "Input user score: 7.0\n",
      "Similarity - Recommended games\n",
      "452.6667298259433 - yoshi's new island\n",
      "417.80239905699966 - pilotwings resort\n",
      "415.1742186080212 - donkey kong country: tropical freeze\n",
      "413.5948178381257 - super mario 3d land\n",
      "411.16441776050266 - tearaway unfolded\n",
      "408.8852096269839 - rocket league\n",
      "407.01738937207955 - wwe 2k17\n",
      "406.431081787982 - animal crossing: new leaf\n",
      "402.8078552291546 - rayman 3d\n"
     ]
    }
   ],
   "source": [
    "d2v_model_demo_Aplus = file_vg.append_col_to_d2v(d2v_model_demo_A, demo_dataframe[\"cluster_label\"])\n",
    "file_vg.run_recommender(d2v_model_demo_Aplus, demo_dataframe)"
   ]
  },
  {
   "cell_type": "code",
   "execution_count": 15,
   "metadata": {},
   "outputs": [
    {
     "output_type": "stream",
     "name": "stdout",
     "text": [
      "fallout\n",
      "7.0\n",
      "[6.2 6.5 5.4]\n",
      "[8452, 4490, 17112, 23790, 30485, 15087, 1904, 30412, 14839, 23765]\n",
      "[528.392881829752, 524.9074810898633, 523.9467960177137, 520.861867612525, 520.0282891010096, 518.2749739923061, 516.8766807875778, 516.6509966651494, 516.2408872194902, 515.7017707709374]\n",
      " \n",
      "Input game: fallout\n",
      "Input user score: 7.0\n",
      "Similarity - Recommended games\n",
      "528.392881829752 - tearaway\n",
      "524.9074810898633 - littlebigplanet ps vita\n",
      "523.9467960177137 - yoshi's new island\n",
      "520.861867612525 - mario party 10\n",
      "520.0282891010096 - wwe 2k17\n",
      "518.2749739923061 - mario golf: world tour\n",
      "516.8766807875778 - bit.trip saga\n",
      "516.6509966651494 - farming simulator 17\n",
      "516.2408872194902 - littlebigplanet 3\n"
     ]
    }
   ],
   "source": [
    "d2v_model_demo_Bplus = file_vg.append_col_to_d2v(d2v_model_demo_B, demo_dataframe[\"cluster_label\"])\n",
    "file_vg.run_recommender(d2v_model_demo_Bplus, demo_dataframe)"
   ]
  },
  {
   "source": [
    "### Run Job IV: Elder Scrolls, 10 out of 10, Cluster Labels added"
   ],
   "cell_type": "markdown",
   "metadata": {}
  },
  {
   "cell_type": "code",
   "execution_count": 16,
   "metadata": {},
   "outputs": [
    {
     "output_type": "stream",
     "name": "stdout",
     "text": [
      "elder scrolls\n",
      "10.0\n",
      "[8.1 5.7]\n",
      "[17130, 2588, 13280, 142, 20693, 19764, 17146, 30528, 8314, 3213]\n",
      "[452.66672107241874, 417.80244421016005, 415.17424772411425, 413.59492165226885, 411.1642554167789, 408.8852837912185, 407.0174567345581, 406.43107957289374, 402.80776190721923, 402.77384869428295]\n",
      " \n",
      "Input game: elder scrolls\n",
      "Input user score: 10.0\n",
      "Similarity - Recommended games\n",
      "452.66672107241874 - yoshi's new island\n",
      "417.80244421016005 - pilotwings resort\n",
      "415.17424772411425 - donkey kong country: tropical freeze\n",
      "413.59492165226885 - super mario 3d land\n",
      "411.1642554167789 - tearaway unfolded\n",
      "408.8852837912185 - rocket league\n",
      "407.0174567345581 - wwe 2k17\n",
      "406.43107957289374 - animal crossing: new leaf\n",
      "402.80776190721923 - rayman 3d\n"
     ]
    }
   ],
   "source": [
    "file_vg.run_recommender(d2v_model_demo_Aplus, demo_dataframe)"
   ]
  },
  {
   "cell_type": "code",
   "execution_count": 17,
   "metadata": {},
   "outputs": [
    {
     "output_type": "stream",
     "name": "stdout",
     "text": [
      "elder scrolls\n",
      "10.0\n",
      "[8.1 5.7]\n",
      "[8452, 4490, 17112, 23790, 30485, 15087, 1904, 30412, 14839, 23765]\n",
      "[528.3928193749155, 524.9073389441318, 523.9466776872566, 520.8618559839595, 520.0282774404648, 518.2749199524355, 516.8766012352529, 516.6509568949856, 516.2408551670653, 515.7016904614406]\n",
      " \n",
      "Input game: elder scrolls\n",
      "Input user score: 10.0\n",
      "Similarity - Recommended games\n",
      "528.3928193749155 - tearaway\n",
      "524.9073389441318 - littlebigplanet ps vita\n",
      "523.9466776872566 - yoshi's new island\n",
      "520.8618559839595 - mario party 10\n",
      "520.0282774404648 - wwe 2k17\n",
      "518.2749199524355 - mario golf: world tour\n",
      "516.8766012352529 - bit.trip saga\n",
      "516.6509568949856 - farming simulator 17\n",
      "516.2408551670653 - littlebigplanet 3\n"
     ]
    }
   ],
   "source": [
    "file_vg.run_recommender(d2v_model_demo_Bplus, demo_dataframe)"
   ]
  },
  {
   "cell_type": "code",
   "execution_count": null,
   "metadata": {},
   "outputs": [],
   "source": []
  }
 ],
 "metadata": {
  "kernelspec": {
   "name": "python383jvsc74a57bd0ee0d976233df5362d3571cc9e6dcfbd4b03dfcef520ecdbf6f7703c11dbfed0c",
   "display_name": "Python 3.8.3 64-bit ('base': conda)"
  },
  "language_info": {
   "codemirror_mode": {
    "name": "ipython",
    "version": 3
   },
   "file_extension": ".py",
   "mimetype": "text/x-python",
   "name": "python",
   "nbconvert_exporter": "python",
   "pygments_lexer": "ipython3",
   "version": "3.8.3"
  }
 },
 "nbformat": 4,
 "nbformat_minor": 2
}