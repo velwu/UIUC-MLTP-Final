{
 "cells": [
  {
   "cell_type": "code",
   "execution_count": 85,
   "metadata": {
    "collapsed": true,
    "pycharm": {
     "is_executing": false
    }
   },
   "outputs": [],
   "source": [
    "import pandas as pd\n",
    "import numpy as np\n",
    "import matplotlib.pyplot as plt\n",
    "import gensim\n",
    "from gensim.models.doc2vec import Doc2Vec\n",
    "from nltk.tokenize import word_tokenize\n",
    "\n",
    "import data_pre_processing as file_dpp"
   ]
  },
  {
   "cell_type": "code",
   "execution_count": 86,
   "outputs": [
    {
     "name": "stdout",
     "text": [
      "(16593, 2)\n",
      "(16713, 2)\n",
      "(5516, 2)\n"
     ],
     "output_type": "stream"
    },
    {
     "data": {
      "text/plain": "                         name  \\\n0      LEVEL (Czech Republic)   \n1                 GameCritics   \n2           PC Games (Russia)   \n3            Adventure Gamers   \n4             Armchair Empire   \n...                       ...   \n32774              XboxAddict   \n32775                    ICXM   \n32776           Worth Playing   \n32777        TrueAchievements   \n32778                GameSpot   \n\n                                                  review      game platform  \\\n0      Portal 2 is a masterpiece, a work of art that ...  portal 2       PC   \n1      So do we need Portal 2? Do I need it? Maybe no...  portal 2       PC   \n2      Portal 2 exceeds every expectation. It has a s...  portal 2       PC   \n3      Like its predecessor, Portal 2 is not an adven...  portal 2       PC   \n4      Pile on the \"Oh, yes!\" moments of solving some...  portal 2       PC   \n...                                                  ...       ...      ...   \n32774  Despite the lackluster quality with some of it...    ride 2     XOne   \n32775  Ride 2 is a huge improvement over the original...    ride 2     XOne   \n32776  Ride 2 is certainly an improvement over the or...    ride 2     XOne   \n32777  Despite the addition of more bikes and tracks,...    ride 2     XOne   \n32778  On paper, then, Ride 2 is an exciting proposit...    ride 2     XOne   \n\n       score          date      Name Platform  Year_of_Release    Genre  ...  \\\n0      100.0  May 25, 2011  portal 2       PC           2011.0  Shooter  ...   \n1      100.0  May  8, 2011  portal 2       PC           2011.0  Shooter  ...   \n2      100.0  May  6, 2011  portal 2       PC           2011.0  Shooter  ...   \n3      100.0  Apr 29, 2011  portal 2       PC           2011.0  Shooter  ...   \n4      100.0  Apr 28, 2011  portal 2       PC           2011.0  Shooter  ...   \n...      ...           ...       ...      ...              ...      ...  ...   \n32774   70.0  Mar  7, 2017    ride 2     XOne           2016.0   Racing  ...   \n32775   70.0  Feb 18, 2017    ride 2     XOne           2016.0   Racing  ...   \n32776   65.0  Mar  9, 2017    ride 2     XOne           2016.0   Racing  ...   \n32777   60.0  Oct 13, 2016    ride 2     XOne           2016.0   Racing  ...   \n32778   40.0  Feb 24, 2017    ride 2     XOne           2016.0   Racing  ...   \n\n      EU_Sales  JP_Sales  Other_Sales  Global_Sales  Critic_Score  \\\n0         0.32       0.0          0.1          0.76          95.0   \n1         0.32       0.0          0.1          0.76          95.0   \n2         0.32       0.0          0.1          0.76          95.0   \n3         0.32       0.0          0.1          0.76          95.0   \n4         0.32       0.0          0.1          0.76          95.0   \n...        ...       ...          ...           ...           ...   \n32774     0.01       0.0          0.0          0.01           NaN   \n32775     0.01       0.0          0.0          0.01           NaN   \n32776     0.01       0.0          0.0          0.01           NaN   \n32777     0.01       0.0          0.0          0.01           NaN   \n32778     0.01       0.0          0.0          0.01           NaN   \n\n       Critic_Count  User_Score  User_Count        Developer  Rating  \n0              52.0         8.8      5999.0   Valve Software    E10+  \n1              52.0         8.8      5999.0   Valve Software    E10+  \n2              52.0         8.8      5999.0   Valve Software    E10+  \n3              52.0         8.8      5999.0   Valve Software    E10+  \n4              52.0         8.8      5999.0   Valve Software    E10+  \n...             ...         ...         ...              ...     ...  \n32774           NaN         8.2         6.0  Milestone S.r.l       E  \n32775           NaN         8.2         6.0  Milestone S.r.l       E  \n32776           NaN         8.2         6.0  Milestone S.r.l       E  \n32777           NaN         8.2         6.0  Milestone S.r.l       E  \n32778           NaN         8.2         6.0  Milestone S.r.l       E  \n\n[32779 rows x 22 columns]",
      "text/html": "<div>\n<style scoped>\n    .dataframe tbody tr th:only-of-type {\n        vertical-align: middle;\n    }\n\n    .dataframe tbody tr th {\n        vertical-align: top;\n    }\n\n    .dataframe thead th {\n        text-align: right;\n    }\n</style>\n<table border=\"1\" class=\"dataframe\">\n  <thead>\n    <tr style=\"text-align: right;\">\n      <th></th>\n      <th>name</th>\n      <th>review</th>\n      <th>game</th>\n      <th>platform</th>\n      <th>score</th>\n      <th>date</th>\n      <th>Name</th>\n      <th>Platform</th>\n      <th>Year_of_Release</th>\n      <th>Genre</th>\n      <th>...</th>\n      <th>EU_Sales</th>\n      <th>JP_Sales</th>\n      <th>Other_Sales</th>\n      <th>Global_Sales</th>\n      <th>Critic_Score</th>\n      <th>Critic_Count</th>\n      <th>User_Score</th>\n      <th>User_Count</th>\n      <th>Developer</th>\n      <th>Rating</th>\n    </tr>\n  </thead>\n  <tbody>\n    <tr>\n      <th>0</th>\n      <td>LEVEL (Czech Republic)</td>\n      <td>Portal 2 is a masterpiece, a work of art that ...</td>\n      <td>portal 2</td>\n      <td>PC</td>\n      <td>100.0</td>\n      <td>May 25, 2011</td>\n      <td>portal 2</td>\n      <td>PC</td>\n      <td>2011.0</td>\n      <td>Shooter</td>\n      <td>...</td>\n      <td>0.32</td>\n      <td>0.0</td>\n      <td>0.1</td>\n      <td>0.76</td>\n      <td>95.0</td>\n      <td>52.0</td>\n      <td>8.8</td>\n      <td>5999.0</td>\n      <td>Valve Software</td>\n      <td>E10+</td>\n    </tr>\n    <tr>\n      <th>1</th>\n      <td>GameCritics</td>\n      <td>So do we need Portal 2? Do I need it? Maybe no...</td>\n      <td>portal 2</td>\n      <td>PC</td>\n      <td>100.0</td>\n      <td>May  8, 2011</td>\n      <td>portal 2</td>\n      <td>PC</td>\n      <td>2011.0</td>\n      <td>Shooter</td>\n      <td>...</td>\n      <td>0.32</td>\n      <td>0.0</td>\n      <td>0.1</td>\n      <td>0.76</td>\n      <td>95.0</td>\n      <td>52.0</td>\n      <td>8.8</td>\n      <td>5999.0</td>\n      <td>Valve Software</td>\n      <td>E10+</td>\n    </tr>\n    <tr>\n      <th>2</th>\n      <td>PC Games (Russia)</td>\n      <td>Portal 2 exceeds every expectation. It has a s...</td>\n      <td>portal 2</td>\n      <td>PC</td>\n      <td>100.0</td>\n      <td>May  6, 2011</td>\n      <td>portal 2</td>\n      <td>PC</td>\n      <td>2011.0</td>\n      <td>Shooter</td>\n      <td>...</td>\n      <td>0.32</td>\n      <td>0.0</td>\n      <td>0.1</td>\n      <td>0.76</td>\n      <td>95.0</td>\n      <td>52.0</td>\n      <td>8.8</td>\n      <td>5999.0</td>\n      <td>Valve Software</td>\n      <td>E10+</td>\n    </tr>\n    <tr>\n      <th>3</th>\n      <td>Adventure Gamers</td>\n      <td>Like its predecessor, Portal 2 is not an adven...</td>\n      <td>portal 2</td>\n      <td>PC</td>\n      <td>100.0</td>\n      <td>Apr 29, 2011</td>\n      <td>portal 2</td>\n      <td>PC</td>\n      <td>2011.0</td>\n      <td>Shooter</td>\n      <td>...</td>\n      <td>0.32</td>\n      <td>0.0</td>\n      <td>0.1</td>\n      <td>0.76</td>\n      <td>95.0</td>\n      <td>52.0</td>\n      <td>8.8</td>\n      <td>5999.0</td>\n      <td>Valve Software</td>\n      <td>E10+</td>\n    </tr>\n    <tr>\n      <th>4</th>\n      <td>Armchair Empire</td>\n      <td>Pile on the \"Oh, yes!\" moments of solving some...</td>\n      <td>portal 2</td>\n      <td>PC</td>\n      <td>100.0</td>\n      <td>Apr 28, 2011</td>\n      <td>portal 2</td>\n      <td>PC</td>\n      <td>2011.0</td>\n      <td>Shooter</td>\n      <td>...</td>\n      <td>0.32</td>\n      <td>0.0</td>\n      <td>0.1</td>\n      <td>0.76</td>\n      <td>95.0</td>\n      <td>52.0</td>\n      <td>8.8</td>\n      <td>5999.0</td>\n      <td>Valve Software</td>\n      <td>E10+</td>\n    </tr>\n    <tr>\n      <th>...</th>\n      <td>...</td>\n      <td>...</td>\n      <td>...</td>\n      <td>...</td>\n      <td>...</td>\n      <td>...</td>\n      <td>...</td>\n      <td>...</td>\n      <td>...</td>\n      <td>...</td>\n      <td>...</td>\n      <td>...</td>\n      <td>...</td>\n      <td>...</td>\n      <td>...</td>\n      <td>...</td>\n      <td>...</td>\n      <td>...</td>\n      <td>...</td>\n      <td>...</td>\n      <td>...</td>\n    </tr>\n    <tr>\n      <th>32774</th>\n      <td>XboxAddict</td>\n      <td>Despite the lackluster quality with some of it...</td>\n      <td>ride 2</td>\n      <td>XOne</td>\n      <td>70.0</td>\n      <td>Mar  7, 2017</td>\n      <td>ride 2</td>\n      <td>XOne</td>\n      <td>2016.0</td>\n      <td>Racing</td>\n      <td>...</td>\n      <td>0.01</td>\n      <td>0.0</td>\n      <td>0.0</td>\n      <td>0.01</td>\n      <td>NaN</td>\n      <td>NaN</td>\n      <td>8.2</td>\n      <td>6.0</td>\n      <td>Milestone S.r.l</td>\n      <td>E</td>\n    </tr>\n    <tr>\n      <th>32775</th>\n      <td>ICXM</td>\n      <td>Ride 2 is a huge improvement over the original...</td>\n      <td>ride 2</td>\n      <td>XOne</td>\n      <td>70.0</td>\n      <td>Feb 18, 2017</td>\n      <td>ride 2</td>\n      <td>XOne</td>\n      <td>2016.0</td>\n      <td>Racing</td>\n      <td>...</td>\n      <td>0.01</td>\n      <td>0.0</td>\n      <td>0.0</td>\n      <td>0.01</td>\n      <td>NaN</td>\n      <td>NaN</td>\n      <td>8.2</td>\n      <td>6.0</td>\n      <td>Milestone S.r.l</td>\n      <td>E</td>\n    </tr>\n    <tr>\n      <th>32776</th>\n      <td>Worth Playing</td>\n      <td>Ride 2 is certainly an improvement over the or...</td>\n      <td>ride 2</td>\n      <td>XOne</td>\n      <td>65.0</td>\n      <td>Mar  9, 2017</td>\n      <td>ride 2</td>\n      <td>XOne</td>\n      <td>2016.0</td>\n      <td>Racing</td>\n      <td>...</td>\n      <td>0.01</td>\n      <td>0.0</td>\n      <td>0.0</td>\n      <td>0.01</td>\n      <td>NaN</td>\n      <td>NaN</td>\n      <td>8.2</td>\n      <td>6.0</td>\n      <td>Milestone S.r.l</td>\n      <td>E</td>\n    </tr>\n    <tr>\n      <th>32777</th>\n      <td>TrueAchievements</td>\n      <td>Despite the addition of more bikes and tracks,...</td>\n      <td>ride 2</td>\n      <td>XOne</td>\n      <td>60.0</td>\n      <td>Oct 13, 2016</td>\n      <td>ride 2</td>\n      <td>XOne</td>\n      <td>2016.0</td>\n      <td>Racing</td>\n      <td>...</td>\n      <td>0.01</td>\n      <td>0.0</td>\n      <td>0.0</td>\n      <td>0.01</td>\n      <td>NaN</td>\n      <td>NaN</td>\n      <td>8.2</td>\n      <td>6.0</td>\n      <td>Milestone S.r.l</td>\n      <td>E</td>\n    </tr>\n    <tr>\n      <th>32778</th>\n      <td>GameSpot</td>\n      <td>On paper, then, Ride 2 is an exciting proposit...</td>\n      <td>ride 2</td>\n      <td>XOne</td>\n      <td>40.0</td>\n      <td>Feb 24, 2017</td>\n      <td>ride 2</td>\n      <td>XOne</td>\n      <td>2016.0</td>\n      <td>Racing</td>\n      <td>...</td>\n      <td>0.01</td>\n      <td>0.0</td>\n      <td>0.0</td>\n      <td>0.01</td>\n      <td>NaN</td>\n      <td>NaN</td>\n      <td>8.2</td>\n      <td>6.0</td>\n      <td>Milestone S.r.l</td>\n      <td>E</td>\n    </tr>\n  </tbody>\n</table>\n<p>32779 rows × 22 columns</p>\n</div>"
     },
     "metadata": {},
     "output_type": "execute_result",
     "execution_count": 86
    }
   ],
   "source": [
    "df_list = file_dpp.main_proc()\n",
    "merged_game_sale_and_reviews = df_list[-1]\n",
    "merged_game_sale_and_reviews"
   ],
   "metadata": {
    "collapsed": false,
    "pycharm": {
     "name": "#%%\n",
     "is_executing": false
    }
   }
  },
  {
   "cell_type": "markdown",
   "source": [
    "# Embeddings section\n",
    "\n",
    "Some parts of this section are from the article in the link below.\n",
    "\n",
    "https://medium.com/@ermolushka/text-clusterization-using-python-and-doc2vec-8c499668fa61\n",
    "\n",
    "The author demonstrates how to retrieve embeddings from the IMDB reviews. "
   ],
   "metadata": {
    "collapsed": false,
    "pycharm": {
     "name": "#%% md\n"
    }
   }
  },
  {
   "cell_type": "code",
   "execution_count": 87,
   "outputs": [
    {
     "data": {
      "text/plain": "                                              review  \\\n0  Portal 2 is a masterpiece, a work of art that ...   \n1  So do we need Portal 2? Do I need it? Maybe no...   \n2  Portal 2 exceeds every expectation. It has a s...   \n3  Like its predecessor, Portal 2 is not an adven...   \n4  Pile on the \"Oh, yes!\" moments of solving some...   \n\n                                       review_tokens  \n0  [portal, 2, is, a, masterpiece, ,, a, work, of...  \n1  [so, do, we, need, portal, 2, ?, do, i, need, ...  \n2  [portal, 2, exceeds, every, expectation, ., it...  \n3  [like, its, predecessor, ,, portal, 2, is, not...  \n4  [pile, on, the, ``, oh, ,, yes, !, '', moments...  ",
      "text/html": "<div>\n<style scoped>\n    .dataframe tbody tr th:only-of-type {\n        vertical-align: middle;\n    }\n\n    .dataframe tbody tr th {\n        vertical-align: top;\n    }\n\n    .dataframe thead th {\n        text-align: right;\n    }\n</style>\n<table border=\"1\" class=\"dataframe\">\n  <thead>\n    <tr style=\"text-align: right;\">\n      <th></th>\n      <th>review</th>\n      <th>review_tokens</th>\n    </tr>\n  </thead>\n  <tbody>\n    <tr>\n      <th>0</th>\n      <td>Portal 2 is a masterpiece, a work of art that ...</td>\n      <td>[portal, 2, is, a, masterpiece, ,, a, work, of...</td>\n    </tr>\n    <tr>\n      <th>1</th>\n      <td>So do we need Portal 2? Do I need it? Maybe no...</td>\n      <td>[so, do, we, need, portal, 2, ?, do, i, need, ...</td>\n    </tr>\n    <tr>\n      <th>2</th>\n      <td>Portal 2 exceeds every expectation. It has a s...</td>\n      <td>[portal, 2, exceeds, every, expectation, ., it...</td>\n    </tr>\n    <tr>\n      <th>3</th>\n      <td>Like its predecessor, Portal 2 is not an adven...</td>\n      <td>[like, its, predecessor, ,, portal, 2, is, not...</td>\n    </tr>\n    <tr>\n      <th>4</th>\n      <td>Pile on the \"Oh, yes!\" moments of solving some...</td>\n      <td>[pile, on, the, ``, oh, ,, yes, !, '', moments...</td>\n    </tr>\n  </tbody>\n</table>\n</div>"
     },
     "metadata": {},
     "output_type": "execute_result",
     "execution_count": 87
    }
   ],
   "source": [
    " \n",
    "#Clean and tokenize the reviews\n",
    "merged_game_sale_and_reviews['review_tokens'] = merged_game_sale_and_reviews['review'].str.lower()\n",
    "merged_game_sale_and_reviews['review_tokens'] = merged_game_sale_and_reviews['review_tokens'].apply(word_tokenize)\n",
    "merged_game_sale_and_reviews[['review','review_tokens']].head()"
   ],
   "metadata": {
    "collapsed": false,
    "pycharm": {
     "name": "#%%\n",
     "is_executing": false
    }
   }
  },
  {
   "cell_type": "code",
   "execution_count": 88,
   "outputs": [
    {
     "data": {
      "text/plain": "Empty DataFrame\nColumns: [name, review, game, platform, score, date, Name, Platform, Year_of_Release, Genre, Publisher, NA_Sales, EU_Sales, JP_Sales, Other_Sales, Global_Sales, Critic_Score, Critic_Count, User_Score, User_Count, Developer, Rating, review_tokens]\nIndex: []\n\n[0 rows x 23 columns]",
      "text/html": "<div>\n<style scoped>\n    .dataframe tbody tr th:only-of-type {\n        vertical-align: middle;\n    }\n\n    .dataframe tbody tr th {\n        vertical-align: top;\n    }\n\n    .dataframe thead th {\n        text-align: right;\n    }\n</style>\n<table border=\"1\" class=\"dataframe\">\n  <thead>\n    <tr style=\"text-align: right;\">\n      <th></th>\n      <th>name</th>\n      <th>review</th>\n      <th>game</th>\n      <th>platform</th>\n      <th>score</th>\n      <th>date</th>\n      <th>Name</th>\n      <th>Platform</th>\n      <th>Year_of_Release</th>\n      <th>Genre</th>\n      <th>...</th>\n      <th>JP_Sales</th>\n      <th>Other_Sales</th>\n      <th>Global_Sales</th>\n      <th>Critic_Score</th>\n      <th>Critic_Count</th>\n      <th>User_Score</th>\n      <th>User_Count</th>\n      <th>Developer</th>\n      <th>Rating</th>\n      <th>review_tokens</th>\n    </tr>\n  </thead>\n  <tbody>\n  </tbody>\n</table>\n<p>0 rows × 23 columns</p>\n</div>"
     },
     "metadata": {},
     "output_type": "execute_result",
     "execution_count": 88
    }
   ],
   "source": [
    "merged_game_sale_and_reviews[merged_game_sale_and_reviews['game'].str.contains('counter')]"
   ],
   "metadata": {
    "collapsed": false,
    "pycharm": {
     "name": "#%%\n",
     "is_executing": false
    }
   }
  },
  {
   "cell_type": "code",
   "execution_count": 89,
   "outputs": [
    {
     "name": "stdout",
     "text": [
      "Number of texts processed:  32779\n"
     ],
     "output_type": "stream"
    }
   ],
   "source": [
    "#Give tag numbers to each review\n",
    "LabeledSentence1 = gensim.models.doc2vec.TaggedDocument\n",
    "all_content_train = []\n",
    "j=0\n",
    "for em in merged_game_sale_and_reviews['review_tokens'].values:\n",
    "    all_content_train.append(LabeledSentence1(em,[j]))\n",
    "    j+=1\n",
    "print('Number of texts processed: ', j)"
   ],
   "metadata": {
    "collapsed": false,
    "pycharm": {
     "name": "#%%\n",
     "is_executing": false
    }
   }
  },
  {
   "cell_type": "code",
   "execution_count": 90,
   "outputs": [
    {
     "name": "stdout",
     "text": [
      "32779\n"
     ],
     "output_type": "stream"
    },
    {
     "data": {
      "text/plain": "[TaggedDocument(words=['portal', '2', 'is', 'a', 'masterpiece', ',', 'a', 'work', 'of', 'art', 'that', 'you', 'will', 'love', 'for', 'its', 'ingenious', 'story', 'pop-culture', ',', 'references', 'to', 'logical', 'puzzles', 'and', 'co-op', 'multiplayer', '.', 'definitely', 'a', 'candidate', 'for', 'game', 'of', 'the', 'year', '.', '[', 'issue', '#', '204', ']'], tags=[0]),\n TaggedDocument(words=['so', 'do', 'we', 'need', 'portal', '2', '?', 'do', 'i', 'need', 'it', '?', 'maybe', 'not', ',', 'but', 'i', \"'m\", 'sure', 'as', 'hell', 'glad', 'it', 'exists', '.', 'the', 'portal', 'aspect', 'has', 'probably', 'reached', 'its', 'zenith', 'in', 'portal', '2', ',', 'and', 'given', 'the', 'way', 'the', 'game', 'ends', 'i', 'do', \"n't\", 'think', 'there', \"'s\", 'much', 'room', 'for', 'a', 'portal', '3', '.'], tags=[1]),\n TaggedDocument(words=['portal', '2', 'exceeds', 'every', 'expectation', '.', 'it', 'has', 'a', 'smart', 'story', ',', 'hilarious', 'dialogs', 'and', 'the', 'most', 'refined', 'multi-dimensional', 'puzzles', 'ever', 'created', '.', '[', 'june', '2011', ',', 'p.78', ']'], tags=[2]),\n TaggedDocument(words=['like', 'its', 'predecessor', ',', 'portal', '2', 'is', 'not', 'an', 'adventure', 'game', 'in', 'the', 'traditional', 'sense', ',', 'but', 'genre', 'fans', 'will', 'find', 'plenty', 'to', 'appreciate', 'in', 'this', 'story-driven', 'obstacle', 'course', ',', 'because', 'puzzle', 'games', 'do', \"n't\", 'get', 'any', 'better', 'than', 'this', '.'], tags=[3]),\n TaggedDocument(words=['pile', 'on', 'the', '``', 'oh', ',', 'yes', '!', \"''\", 'moments', 'of', 'solving', 'some', 'really', 'great', 'puzzles', ',', 'and', 'there', \"'s\", 'every', 'reason', 'to', 'start', 'thinking', 'about', 'game', 'of', 'the', 'year', 'accolades', '.', 'it', \"'s\", 'that', 'good', '.'], tags=[4])]"
     },
     "metadata": {},
     "output_type": "execute_result",
     "execution_count": 90
    }
   ],
   "source": [
    "print(len(all_content_train))\n",
    "all_content_train[:5]"
   ],
   "metadata": {
    "collapsed": false,
    "pycharm": {
     "name": "#%%\n",
     "is_executing": false
    }
   }
  },
  {
   "cell_type": "code",
   "execution_count": 91,
   "outputs": [],
   "source": [
    "#Create a function to construct document embeddings\n",
    "def get_doc2vec(tagged_doc, param_list):\n",
    "    vector_size = param_list[0]\n",
    "    window = param_list[1]\n",
    "    min_count = param_list[2]\n",
    "    negative = param_list[3]\n",
    "    epoch = param_list[4]\n",
    "    \n",
    "    d2v_model = Doc2Vec(tagged_doc, vector_size=vector_size, window=window, min_count=min_count, workers=7, negative=negative)\n",
    "    d2v_model.train(tagged_doc, total_examples=d2v_model.corpus_count, epochs=epoch)\n",
    "    \n",
    "    return d2v_model"
   ],
   "metadata": {
    "collapsed": false,
    "pycharm": {
     "name": "#%%\n",
     "is_executing": false
    }
   }
  },
  {
   "cell_type": "code",
   "execution_count": 193,
   "outputs": [],
   "source": [
    "#Parameters for Doc2Vec\n",
    "vector_size = 50\n",
    "window = 5\n",
    "min_count = 1\n",
    "negative = 0\n",
    "epoch = 10\n",
    "\n",
    "param_list = [vector_size, window, min_count, negative, epoch]\n",
    "\n",
    "#Get Doc2Vec model from the given parameters\n",
    "d2v_model = get_doc2vec(all_content_train, param_list)"
   ],
   "metadata": {
    "collapsed": false,
    "pycharm": {
     "name": "#%%\n",
     "is_executing": false
    }
   }
  },
  {
   "cell_type": "code",
   "execution_count": 194,
   "outputs": [
    {
     "name": "stdout",
     "text": [
      "fallout\n"
     ],
     "output_type": "stream"
    }
   ],
   "source": [
    "#Get input game name from the user and clean the input\n",
    "input_game_name = input('Enter game name: ')\n",
    "input_game_name = input_game_name.lower()\n",
    "input_game_name = input_game_name.strip()\n",
    "print(input_game_name)"
   ],
   "metadata": {
    "collapsed": false,
    "pycharm": {
     "name": "#%%\n",
     "is_executing": false
    }
   }
  },
  {
   "cell_type": "code",
   "execution_count": 195,
   "outputs": [
    {
     "name": "stdout",
     "text": [
      "10.0\n"
     ],
     "output_type": "stream"
    }
   ],
   "source": [
    "#Get input game score from the user, clean it, and change the format to float\n",
    "input_game_score = input('Enter game score (0.0-10.0): ')\n",
    "input_game_score = input_game_score.strip()\n",
    "input_game_score = float(input_game_score)\n",
    "print(input_game_score)"
   ],
   "metadata": {
    "collapsed": false,
    "pycharm": {
     "name": "#%%\n",
     "is_executing": false
    }
   }
  },
  {
   "cell_type": "code",
   "execution_count": 196,
   "outputs": [
    {
     "data": {
      "text/plain": "(137, 23)"
     },
     "metadata": {},
     "output_type": "execute_result",
     "execution_count": 196
    }
   ],
   "source": [
    "#Filter the df to get only the rows that contain the input game name \n",
    "filtered_df = merged_game_sale_and_reviews[merged_game_sale_and_reviews['game'].str.contains(input_game_name)]\n",
    "filtered_df.shape"
   ],
   "metadata": {
    "collapsed": false,
    "pycharm": {
     "name": "#%%\n",
     "is_executing": false
    }
   }
  },
  {
   "cell_type": "code",
   "execution_count": 197,
   "outputs": [
    {
     "name": "stdout",
     "text": [
      "[6.2 6.5 5.4]\n"
     ],
     "output_type": "stream"
    },
    {
     "data": {
      "text/plain": "6.5"
     },
     "metadata": {},
     "output_type": "execute_result",
     "execution_count": 197
    }
   ],
   "source": [
    "#Get the closest User Score from the filtered_df\n",
    "unique_user_score = filtered_df['User_Score'].unique()\n",
    "print(unique_user_score)\n",
    "dif_array = np.abs(unique_user_score - input_game_score)\n",
    "closest_user_score = unique_user_score[dif_array.argmin()]\n",
    "closest_user_score"
   ],
   "metadata": {
    "collapsed": false,
    "pycharm": {
     "name": "#%%\n",
     "is_executing": false
    }
   }
  },
  {
   "cell_type": "code",
   "execution_count": 198,
   "outputs": [
    {
     "data": {
      "text/plain": "(58, 23)"
     },
     "metadata": {},
     "output_type": "execute_result",
     "execution_count": 198
    }
   ],
   "source": [
    "#Filter the df again to get the rows that contain the closest game score\n",
    "filtered_df = filtered_df[filtered_df['User_Score']==closest_user_score]\n",
    "filtered_df.shape"
   ],
   "metadata": {
    "collapsed": false,
    "pycharm": {
     "name": "#%%\n",
     "is_executing": false
    }
   }
  },
  {
   "cell_type": "code",
   "execution_count": 199,
   "outputs": [
    {
     "data": {
      "text/plain": "(58, 50)"
     },
     "metadata": {},
     "output_type": "execute_result",
     "execution_count": 199
    }
   ],
   "source": [
    "#Get the following embeddings from the filtered_df indexes \n",
    "filtered_d2v = d2v_model.dv[filtered_df.index]\n",
    "filtered_d2v.shape"
   ],
   "metadata": {
    "collapsed": false,
    "pycharm": {
     "name": "#%%\n",
     "is_executing": false
    }
   }
  },
  {
   "cell_type": "code",
   "execution_count": 200,
   "outputs": [
    {
     "data": {
      "text/plain": "(50,)"
     },
     "metadata": {},
     "output_type": "execute_result",
     "execution_count": 200
    }
   ],
   "source": [
    "#Average the filtered embeddings to get an average vector in the vector space\n",
    "avg_filtered_d2v = np.average(filtered_d2v, axis=0)\n",
    "avg_filtered_d2v.shape"
   ],
   "metadata": {
    "collapsed": false,
    "pycharm": {
     "name": "#%%\n",
     "is_executing": false
    }
   }
  },
  {
   "cell_type": "code",
   "execution_count": 201,
   "outputs": [
    {
     "data": {
      "text/plain": "[(10682, 0.5659517645835876),\n (19068, 0.4866109788417816),\n (14410, 0.48263850808143616),\n (27087, 0.4796906113624573),\n (21602, 0.46791911125183105),\n (9827, 0.46771469712257385),\n (3936, 0.46480968594551086),\n (14743, 0.461399108171463),\n (7642, 0.4575643837451935),\n (19064, 0.4553277790546417)]"
     },
     "metadata": {},
     "output_type": "execute_result",
     "execution_count": 201
    }
   ],
   "source": [
    "#Get the most 10 similar embeddings (compared to the avg filtered embedding) \n",
    "similar_reviews = d2v_model.dv.most_similar([avg_filtered_d2v])\n",
    "similar_reviews"
   ],
   "metadata": {
    "collapsed": false,
    "pycharm": {
     "name": "#%%\n",
     "is_executing": false
    }
   }
  },
  {
   "cell_type": "code",
   "execution_count": 202,
   "outputs": [
    {
     "name": "stdout",
     "text": [
      "[10682, 19068, 14410, 27087, 21602, 9827, 3936, 14743, 7642, 19064]\n",
      "[0.5659517645835876, 0.4866109788417816, 0.48263850808143616, 0.4796906113624573, 0.46791911125183105, 0.46771469712257385, 0.46480968594551086, 0.461399108171463, 0.4575643837451935, 0.4553277790546417]\n",
      " \n",
      "Input game: fallout\n",
      "Input user score: 10.0\n",
      "Similarity - Recommended games\n",
      "0.5659517645835876 - castlevania: lords of shadow - mirror of fate\n",
      "0.4866109788417816 - fallout 4\n",
      "0.48263850808143616 - danganronpa: trigger happy havoc\n",
      "0.4796906113624573 - watch dogs 2\n",
      "0.46791911125183105 - etrian mystery dungeon\n",
      "0.46771469712257385 - the wonderful 101\n",
      "0.46480968594551086 - bust-a-move universe\n",
      "0.461399108171463 - wolfenstein: the new order\n",
      "0.4575643837451935 - little deviants\n"
     ],
     "output_type": "stream"
    }
   ],
   "source": [
    "#Print out the inputs and the recommended games\n",
    "game_idx = [i[0] for i in similar_reviews]\n",
    "print(game_idx)\n",
    "game_similarity = [i[1] for i in similar_reviews]\n",
    "print(game_similarity)\n",
    "recommended_games = merged_game_sale_and_reviews.loc[game_idx,:]['game'].unique()\n",
    "\n",
    "print(' ')\n",
    "print('Input game: ' + input_game_name)\n",
    "print('Input user score: ' + str(input_game_score))\n",
    "print('Similarity - Recommended games')\n",
    "for i, j in zip(recommended_games, game_similarity):\n",
    "    print(str(j) + ' - ' + i)"
   ],
   "metadata": {
    "collapsed": false,
    "pycharm": {
     "name": "#%%\n",
     "is_executing": false
    }
   }
  },
  {
   "cell_type": "code",
   "execution_count": 203,
   "outputs": [],
   "source": [
    "# Function to add a column to Doc2Vec embeddings\n",
    "def append_col_to_d2v(d2v_model,added_col):\n",
    "    '''\n",
    "    \n",
    "    :param d2v_model: Doc2Vec embeddings \n",
    "    :param added_col: A column that the user want to add to the embedding, should be a DataFrame, series, or numpy array, and has 1D\n",
    "    :return: A new Doc2Vec embeddings that is already added the additional column \n",
    "    '''\n",
    "    added_col_arr = np.array(added_col).reshape(-1,1)\n",
    "    d2v_model.dv.vectors = np.append(d2v_model.dv.vectors,added_col_arr,axis=1)\n",
    "    \n",
    "    return d2v_model"
   ],
   "metadata": {
    "collapsed": false,
    "pycharm": {
     "name": "#%%\n",
     "is_executing": false
    }
   }
  },
  {
   "cell_type": "code",
   "execution_count": 204,
   "outputs": [
    {
     "name": "stdout",
     "text": [
      "Shape of the embeddings before appending a new column: (32779, 50)\n",
      "[[18.]\n",
      " [18.]\n",
      " [18.]\n",
      " ...\n",
      " [18.]\n",
      " [18.]\n",
      " [18.]]\n",
      "The new shape of the embeddings after appending a new column: (32779, 51)\n"
     ],
     "output_type": "stream"
    }
   ],
   "source": [
    "# Test to add one columns to the Doc2Vec embeddings\n",
    "\n",
    "# At first, the embeddings has this shape\n",
    "print('Shape of the embeddings before appending a new column: ' + str(d2v_model.dv.vectors.shape))\n",
    "\n",
    "# Initiate an array that contains only 18 in it and has one dimension equal to the number of reviews \n",
    "test_array = np.ones(len(all_content_train)).reshape(-1,1)*18\n",
    "\n",
    "# Call the add column function and print the dimension after append the additional column\n",
    "new_d2v_model = append_col_to_d2v(d2v_model, test_array)\n",
    "print('The new shape of the embeddings after appending a new column: ' + str(new_d2v_model.dv.vectors.shape))"
   ],
   "metadata": {
    "collapsed": false,
    "pycharm": {
     "name": "#%%\n",
     "is_executing": false
    }
   }
  },
  {
   "cell_type": "code",
   "execution_count": 206,
   "outputs": [
    {
     "data": {
      "text/plain": "array([[-1.04616312e-02, -1.19582554e-02, -1.97615102e-02, ...,\n         1.08264545e-02, -1.60051435e-02,  1.80000000e+01],\n       [-4.23970213e-03, -1.91631319e-04, -1.32775549e-02, ...,\n         1.77903362e-02,  4.70251078e-03,  1.80000000e+01],\n       [-1.11207394e-02, -6.36106962e-03, -1.19417142e-02, ...,\n         5.98902698e-04, -9.41679440e-03,  1.80000000e+01],\n       ...,\n       [-1.60153247e-02,  4.59572300e-03,  1.27786165e-03, ...,\n         1.07678510e-02, -1.08869886e-02,  1.80000000e+01],\n       [-2.06432818e-03,  1.47844316e-03,  1.86165329e-02, ...,\n        -4.82443348e-03,  1.93362050e-02,  1.80000000e+01],\n       [-2.05020420e-03, -1.68271214e-02, -1.77463051e-03, ...,\n         7.87022617e-03, -6.47610659e-03,  1.80000000e+01]])"
     },
     "metadata": {},
     "output_type": "execute_result",
     "execution_count": 206
    }
   ],
   "source": [
    "# You can see that there is 18 in the last position of each vector\n",
    "new_d2v_model.dv.vectors\n"
   ],
   "metadata": {
    "collapsed": false,
    "pycharm": {
     "name": "#%%\n",
     "is_executing": false
    }
   }
  }
 ],
 "metadata": {
  "kernelspec": {
   "display_name": "Python 3",
   "language": "python",
   "name": "python3"
  },
  "language_info": {
   "codemirror_mode": {
    "name": "ipython",
    "version": 2
   },
   "file_extension": ".py",
   "mimetype": "text/x-python",
   "name": "python",
   "nbconvert_exporter": "python",
   "pygments_lexer": "ipython2",
   "version": "2.7.6"
  },
  "pycharm": {
   "stem_cell": {
    "cell_type": "raw",
    "source": [],
    "metadata": {
     "collapsed": false
    }
   }
  }
 },
 "nbformat": 4,
 "nbformat_minor": 0
}